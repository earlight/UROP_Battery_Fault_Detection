{
 "cells": [
  {
   "cell_type": "markdown",
   "metadata": {},
   "source": [
    "Import modules"
   ]
  },
  {
   "cell_type": "code",
   "execution_count": 1,
   "metadata": {},
   "outputs": [],
   "source": [
    "import numpy as np\n",
    "import pandas\n",
    "from tqdm import tqdm\n",
    "import matplotlib.pyplot as plt\n",
    "\n",
    "from sklearn.datasets import make_classification\n",
    "from sklearn.model_selection import train_test_split\n",
    "\n",
    "import torch\n",
    "from torch.utils.data import Dataset, DataLoader\n",
    "import torch.nn as nn\n",
    "\n",
    "from datetime import datetime\n",
    "import time"
   ]
  },
  {
   "cell_type": "markdown",
   "metadata": {},
   "source": [
    "Load data from CSV file"
   ]
  },
  {
   "cell_type": "code",
   "execution_count": 2,
   "metadata": {},
   "outputs": [
    {
     "name": "stdout",
     "output_type": "stream",
     "text": [
      "             volt  current   soc  max_single_volt  min_single_volt  max_temp  \\\n",
      "0        38.85350   -19.52  27.0           3.6323           3.6183      22.0   \n",
      "1        38.85707   -19.70  27.0           3.6351           3.6211      22.0   \n",
      "2        38.89158   -19.70  27.0           3.6362           3.6221      22.0   \n",
      "3        38.91300   -19.71  27.0           3.6380           3.6230      22.0   \n",
      "4        38.91300   -19.79  27.0           3.6381           3.6231      22.0   \n",
      "...           ...      ...   ...              ...              ...       ...   \n",
      "3788539  44.35130   -48.35  88.0           4.1520           4.0991      32.0   \n",
      "3788540  44.35368   -48.86  88.0           4.1521           4.1001      32.0   \n",
      "3788541  44.37510   -49.32  88.0           4.1531           4.1011      32.0   \n",
      "3788542  44.37867   -48.67  88.0           4.1542           4.1021      32.0   \n",
      "3788543  44.41080   -49.20  88.0           4.1561           4.1032      32.0   \n",
      "\n",
      "         min_temp  timestamp  label  car     mileage  \n",
      "0            18.0        1.0      0  433  9434.13912  \n",
      "1            18.0       11.0      0  433  9434.13912  \n",
      "2            18.0       21.0      0  433  9434.13912  \n",
      "3            18.0       31.0      0  433  9434.13912  \n",
      "4            18.0       41.0      0  433  9434.13912  \n",
      "...           ...        ...    ...  ...         ...  \n",
      "3788539      30.0     3791.0      1  492  2328.33972  \n",
      "3788540      30.0     3801.0      1  492  2328.33972  \n",
      "3788541      29.9     3811.0      1  492  2328.33972  \n",
      "3788542      29.0     3821.0      1  492  2328.33972  \n",
      "3788543      29.0     3831.0      1  492  2328.33972  \n",
      "\n",
      "[3788544 rows x 11 columns]\n"
     ]
    }
   ],
   "source": [
    "df = pandas.read_csv('data/brand3.csv')\n",
    "print(df)"
   ]
  },
  {
   "cell_type": "markdown",
   "metadata": {},
   "source": [
    "Clean up data"
   ]
  },
  {
   "cell_type": "code",
   "execution_count": 3,
   "metadata": {},
   "outputs": [
    {
     "name": "stdout",
     "output_type": "stream",
     "text": [
      "Remaining rows: (3788544, 10)\n"
     ]
    }
   ],
   "source": [
    "df = df.dropna()\n",
    "\n",
    "# df = df.loc[(df['car'] == 455) | (df['car'] == 405)] # TODO: Small sample for testing purposes\n",
    "\n",
    "df = df.drop(columns=['car'], axis=1)\n",
    "print(\"Remaining rows:\", df.shape)"
   ]
  },
  {
   "cell_type": "markdown",
   "metadata": {},
   "source": [
    "Normalize data"
   ]
  },
  {
   "cell_type": "code",
   "execution_count": 4,
   "metadata": {},
   "outputs": [],
   "source": [
    "# normalize all columns\n",
    "for column in df.columns:\n",
    "    if column != 'label':\n",
    "        df[column] = (df[column] - df[column].mean()) / df[column].std()"
   ]
  },
  {
   "cell_type": "markdown",
   "metadata": {},
   "source": [
    "Seperate inputs and outputs"
   ]
  },
  {
   "cell_type": "code",
   "execution_count": 5,
   "metadata": {},
   "outputs": [
    {
     "name": "stdout",
     "output_type": "stream",
     "text": [
      "(3788544, 9)\n",
      "(3788544,)\n"
     ]
    }
   ],
   "source": [
    "X = np.array(df.drop(['label'], axis=1))\n",
    "Y = np.array(df['label'])\n",
    "print(X.shape)\n",
    "print(Y.shape)"
   ]
  },
  {
   "cell_type": "markdown",
   "metadata": {},
   "source": [
    "Split training and testing data"
   ]
  },
  {
   "cell_type": "code",
   "execution_count": 6,
   "metadata": {},
   "outputs": [
    {
     "name": "stdout",
     "output_type": "stream",
     "text": [
      "Training X: (2424668, 9)\n",
      "Training Y: (2424668,)\n",
      "Validation X: (606167, 9)\n",
      "Validation Y: (606167,)\n",
      "Testing X: (757709, 9)\n",
      "Testing Y: (757709,)\n"
     ]
    }
   ],
   "source": [
    "X_train, X_test, Y_train, Y_test = train_test_split(X, Y, test_size=0.2, random_state=42)\n",
    "X_train, X_val, Y_train, Y_val = train_test_split(X_train, Y_train, test_size=0.2, random_state=42)\n",
    "print(\"Training X:\", X_train.shape)\n",
    "print(\"Training Y:\", Y_train.shape)\n",
    "print(\"Validation X:\", X_val.shape)\n",
    "print(\"Validation Y:\", Y_val.shape)\n",
    "print(\"Testing X:\", X_test.shape)\n",
    "print(\"Testing Y:\", Y_test.shape)"
   ]
  },
  {
   "cell_type": "markdown",
   "metadata": {},
   "source": [
    "Process data"
   ]
  },
  {
   "cell_type": "code",
   "execution_count": 7,
   "metadata": {},
   "outputs": [],
   "source": [
    "class Data(Dataset):\n",
    "  def __init__(self, X_train, y_train):\n",
    "    # need to convert float64 to float32 else will get the following error\n",
    "    # RuntimeError: expected scalar type Double but found Float\n",
    "    self.X = torch.from_numpy(X_train.astype(np.float32))\n",
    "\n",
    "    # need to convert float64 to Long else will get the following error\n",
    "    # RuntimeError: expected scalar type Long but found Float\n",
    "    self.y = torch.from_numpy(y_train).type(torch.LongTensor)\n",
    "    self.len = self.X.shape[0]\n",
    "  \n",
    "  def __getitem__(self, index):\n",
    "    return self.X[index], self.y[index]\n",
    "  \n",
    "  def __len__(self):\n",
    "    return self.len"
   ]
  },
  {
   "cell_type": "markdown",
   "metadata": {},
   "source": [
    "Load training and validation data"
   ]
  },
  {
   "cell_type": "code",
   "execution_count": 8,
   "metadata": {},
   "outputs": [
    {
     "name": "stdout",
     "output_type": "stream",
     "text": [
      "traindata size: 2424668\n",
      "valdata size: 606167\n",
      "trainloader size: 9472\n",
      "valloader size: 2368\n"
     ]
    }
   ],
   "source": [
    "traindata = Data(X_train, Y_train)\n",
    "print(\"traindata size:\", len(traindata))\n",
    "\n",
    "valdata = Data(X_val, Y_val)\n",
    "print(\"valdata size:\", len(valdata))\n",
    "\n",
    "batch_size = 256\n",
    "\n",
    "trainloader = DataLoader(traindata, batch_size=batch_size, shuffle=True, num_workers=0)\n",
    "print(\"trainloader size:\", len(trainloader))\n",
    "\n",
    "valloader = DataLoader(valdata, batch_size=batch_size, shuffle=True, num_workers=0)\n",
    "print(\"valloader size:\", len(valloader))"
   ]
  },
  {
   "cell_type": "markdown",
   "metadata": {},
   "source": [
    "Build Simple NN"
   ]
  },
  {
   "cell_type": "code",
   "execution_count": 9,
   "metadata": {},
   "outputs": [
    {
     "name": "stdout",
     "output_type": "stream",
     "text": [
      "Input dim: 9\n",
      "Output dim: 2\n"
     ]
    }
   ],
   "source": [
    "# number of features (len of X cols)\n",
    "input_dim = X.shape[1]\n",
    "print(\"Input dim:\", input_dim)\n",
    "\n",
    "# number of classes (unique of y)\n",
    "output_dim = len(np.unique(Y))\n",
    "print(\"Output dim:\", output_dim)\n",
    "\n",
    "class Network(nn.Module):\n",
    "  def __init__(self):\n",
    "    super(Network, self).__init__()\n",
    "    self.lienar_sigmoid_stack = nn.Sequential(\n",
    "      nn.Linear(input_dim, 64),\n",
    "      nn.Sigmoid(),\n",
    "      nn.Linear(64, 32),\n",
    "      nn.Sigmoid(),\n",
    "      nn.Linear(32, 16),\n",
    "      nn.Sigmoid(),\n",
    "      nn.Linear(16, output_dim)\n",
    "    )\n",
    "\n",
    "  def forward(self, x):\n",
    "    x = self.lienar_sigmoid_stack(x)\n",
    "    return x"
   ]
  },
  {
   "cell_type": "markdown",
   "metadata": {},
   "source": [
    "Initialize classifier"
   ]
  },
  {
   "cell_type": "code",
   "execution_count": 10,
   "metadata": {},
   "outputs": [
    {
     "name": "stdout",
     "output_type": "stream",
     "text": [
      "<bound method Module.parameters of Network(\n",
      "  (lienar_sigmoid_stack): Sequential(\n",
      "    (0): Linear(in_features=9, out_features=64, bias=True)\n",
      "    (1): Sigmoid()\n",
      "    (2): Linear(in_features=64, out_features=32, bias=True)\n",
      "    (3): Sigmoid()\n",
      "    (4): Linear(in_features=32, out_features=16, bias=True)\n",
      "    (5): Sigmoid()\n",
      "    (6): Linear(in_features=16, out_features=2, bias=True)\n",
      "  )\n",
      ")>\n"
     ]
    }
   ],
   "source": [
    "clf = Network()\n",
    "print(clf.parameters)"
   ]
  },
  {
   "cell_type": "markdown",
   "metadata": {},
   "source": [
    "Define loss funciton and optimizer"
   ]
  },
  {
   "cell_type": "code",
   "execution_count": 11,
   "metadata": {},
   "outputs": [],
   "source": [
    "criterion = nn.CrossEntropyLoss()\n",
    "optimizer = torch.optim.SGD(clf.parameters(), lr=0.1, momentum=0.9)"
   ]
  },
  {
   "cell_type": "markdown",
   "metadata": {},
   "source": [
    "Training"
   ]
  },
  {
   "cell_type": "code",
   "execution_count": 12,
   "metadata": {},
   "outputs": [
    {
     "name": "stdout",
     "output_type": "stream",
     "text": [
      "Epoch: 1, Training Accuracy: 0.9445, Validation Accuracy: 0.9505\n",
      "Time taken: 15.172545194625854\n",
      "Epoch: 2, Training Accuracy: 0.9529, Validation Accuracy: 0.9551\n",
      "Time taken: 15.011320114135742\n",
      "Epoch: 3, Training Accuracy: 0.9583, Validation Accuracy: 0.9606\n",
      "Time taken: 15.662709951400757\n",
      "Epoch: 4, Training Accuracy: 0.9614, Validation Accuracy: 0.963\n",
      "Time taken: 15.32950210571289\n",
      "Epoch: 5, Training Accuracy: 0.9642, Validation Accuracy: 0.9659\n",
      "Time taken: 15.356574773788452\n",
      "Epoch: 6, Training Accuracy: 0.966, Validation Accuracy: 0.9672\n",
      "Time taken: 15.806411027908325\n",
      "Epoch: 7, Training Accuracy: 0.9676, Validation Accuracy: 0.966\n",
      "Time taken: 15.708585977554321\n",
      "Epoch: 8, Training Accuracy: 0.9687, Validation Accuracy: 0.9707\n",
      "Time taken: 15.005706071853638\n",
      "Epoch: 9, Training Accuracy: 0.9698, Validation Accuracy: 0.9708\n",
      "Time taken: 15.146419048309326\n",
      "Epoch: 10, Training Accuracy: 0.971, Validation Accuracy: 0.9734\n",
      "Time taken: 15.889940977096558\n",
      "Epoch: 11, Training Accuracy: 0.9728, Validation Accuracy: 0.9732\n",
      "Time taken: 15.431643962860107\n",
      "Epoch: 12, Training Accuracy: 0.9744, Validation Accuracy: 0.9764\n",
      "Time taken: 15.451443910598755\n",
      "Epoch: 13, Training Accuracy: 0.9758, Validation Accuracy: 0.9774\n",
      "Time taken: 15.161096096038818\n",
      "Epoch: 14, Training Accuracy: 0.9771, Validation Accuracy: 0.977\n",
      "Time taken: 15.253598928451538\n",
      "Epoch: 15, Training Accuracy: 0.9786, Validation Accuracy: 0.9798\n",
      "Time taken: 15.496319055557251\n",
      "Epoch: 16, Training Accuracy: 0.9798, Validation Accuracy: 0.981\n",
      "Time taken: 15.0309476852417\n",
      "Epoch: 17, Training Accuracy: 0.981, Validation Accuracy: 0.9825\n",
      "Time taken: 15.346455812454224\n",
      "Epoch: 18, Training Accuracy: 0.982, Validation Accuracy: 0.9821\n",
      "Time taken: 15.278499126434326\n",
      "Epoch: 19, Training Accuracy: 0.9827, Validation Accuracy: 0.9823\n",
      "Time taken: 15.182399034500122\n",
      "Epoch: 20, Training Accuracy: 0.9835, Validation Accuracy: 0.9845\n",
      "Time taken: 15.271801948547363\n",
      "Epoch: 21, Training Accuracy: 0.9842, Validation Accuracy: 0.9849\n",
      "Time taken: 15.312255144119263\n",
      "Epoch: 22, Training Accuracy: 0.9848, Validation Accuracy: 0.9843\n",
      "Time taken: 15.263243675231934\n",
      "Epoch: 23, Training Accuracy: 0.9854, Validation Accuracy: 0.9854\n",
      "Time taken: 15.05803394317627\n",
      "Epoch: 24, Training Accuracy: 0.9859, Validation Accuracy: 0.9872\n",
      "Time taken: 15.249321937561035\n",
      "Epoch: 25, Training Accuracy: 0.9865, Validation Accuracy: 0.9871\n",
      "Time taken: 15.12588906288147\n",
      "Epoch: 26, Training Accuracy: 0.987, Validation Accuracy: 0.9879\n",
      "Time taken: 15.251121997833252\n",
      "Epoch: 27, Training Accuracy: 0.9875, Validation Accuracy: 0.9877\n",
      "Time taken: 15.559580087661743\n",
      "Epoch: 28, Training Accuracy: 0.988, Validation Accuracy: 0.9885\n",
      "Time taken: 15.311859846115112\n",
      "Epoch: 29, Training Accuracy: 0.9883, Validation Accuracy: 0.9832\n",
      "Time taken: 15.496363639831543\n",
      "Epoch: 30, Training Accuracy: 0.9888, Validation Accuracy: 0.9883\n",
      "Time taken: 15.409382820129395\n",
      "Epoch: 31, Training Accuracy: 0.989, Validation Accuracy: 0.9881\n",
      "Time taken: 15.25727891921997\n",
      "Epoch: 32, Training Accuracy: 0.9894, Validation Accuracy: 0.9904\n",
      "Time taken: 15.346128225326538\n"
     ]
    }
   ],
   "source": [
    "epochs = 32\n",
    "train_accuracy = []\n",
    "val_accuracy = []\n",
    "\n",
    "for epoch in range(epochs):\n",
    "  epcoh_start = time.time()\n",
    "  running_loss = 0.0\n",
    "  train_correct, train_total = 0, 0\n",
    "\n",
    "  for data in trainloader:\n",
    "    inputs, labels = data\n",
    "\n",
    "    # set optimizer to zero grad to remove previous epoch gradients\n",
    "    optimizer.zero_grad()\n",
    "\n",
    "    # forward propagation\n",
    "    outputs = clf(inputs)\n",
    "    loss = criterion(outputs, labels)\n",
    "\n",
    "    # backward propagation\n",
    "    loss.backward()\n",
    "\n",
    "    # optimize\n",
    "    optimizer.step()\n",
    "    running_loss += loss.item()\n",
    "\n",
    "    # get training accuracy\n",
    "    _, predicted = torch.max(outputs, 1)\n",
    "    train_total += labels.size(0)\n",
    "    train_correct += (predicted == labels).sum().item()\n",
    "\n",
    "  train_accuracy.append(train_correct / train_total)\n",
    "\n",
    "  val_correct, val_total = 0, 0\n",
    "  with torch.no_grad():\n",
    "    for data in valloader:\n",
    "\n",
    "      inputs, labels = data\n",
    "\n",
    "      outputs = clf(inputs)\n",
    "      \n",
    "      _, predicted = torch.max(outputs, 1)\n",
    "\n",
    "      val_total += labels.size(0)\n",
    "      val_correct += (predicted == labels).sum().item()\n",
    "  \n",
    "  val_accuracy.append(val_correct / val_total)\n",
    "  print(f\"Epoch: {epoch + 1}, Training Accuracy: {np.round(train_accuracy[-1], 4)}, Validation Accuracy: {np.round(val_accuracy[-1], 4)}\")\n",
    "  print(f\"Time taken: {time.time() - epcoh_start}\")\n",
    "  "
   ]
  },
  {
   "cell_type": "markdown",
   "metadata": {},
   "source": [
    "Plot training loss over time"
   ]
  },
  {
   "cell_type": "code",
   "execution_count": 13,
   "metadata": {},
   "outputs": [
    {
     "data": {
      "image/png": "[encoded data removed]",
      "text/plain": [
       "<Figure size 640x480 with 1 Axes>"
      ]
     },
     "metadata": {},
     "output_type": "display_data"
    }
   ],
   "source": [
    "# plot training and validation accuracy over epochs\n",
    "plt.plot(train_accuracy[1:], label='Training Accuracy')\n",
    "plt.plot(val_accuracy[1:], label='Validation Accuracy')\n",
    "plt.xlabel('Epoch')\n",
    "plt.ylabel('Accuracy')\n",
    "plt.title('Training and Validation Accuracy')\n",
    "plt.legend()\n",
    "plt.show()"
   ]
  },
  {
   "cell_type": "markdown",
   "metadata": {},
   "source": [
    "Save the trained model"
   ]
  },
  {
   "cell_type": "code",
   "execution_count": 14,
   "metadata": {},
   "outputs": [],
   "source": [
    "# save model with timestamp in file name\n",
    "model_timestamp = datetime.now().strftime(\"%Y-%m-%d_%H:%M:%S\")\n",
    "model_path = './models/v1_simple/results/' + model_timestamp + '.pth'\n",
    "torch.save(clf.state_dict(), model_path)"
   ]
  },
  {
   "cell_type": "markdown",
   "metadata": {},
   "source": [
    "Loading trained model"
   ]
  },
  {
   "cell_type": "code",
   "execution_count": 15,
   "metadata": {},
   "outputs": [
    {
     "data": {
      "text/plain": [
       "<All keys matched successfully>"
      ]
     },
     "execution_count": 15,
     "metadata": {},
     "output_type": "execute_result"
    }
   ],
   "source": [
    "clf = Network()\n",
    "clf.load_state_dict(torch.load(model_path))"
   ]
  },
  {
   "cell_type": "markdown",
   "metadata": {},
   "source": [
    "Testing trained model"
   ]
  },
  {
   "cell_type": "code",
   "execution_count": 16,
   "metadata": {},
   "outputs": [],
   "source": [
    "testdata = Data(X_test, Y_test)\n",
    "testloader = DataLoader(testdata, batch_size=batch_size, shuffle=True, num_workers=0)"
   ]
  },
  {
   "cell_type": "markdown",
   "metadata": {},
   "source": [
    "Get proportions of 0s and 1s in test set"
   ]
  },
  {
   "cell_type": "code",
   "execution_count": 17,
   "metadata": {},
   "outputs": [
    {
     "name": "stdout",
     "output_type": "stream",
     "text": [
      "{0: 712036, 1: 45673}\n",
      "Proportion of 0s: 0.9397222416521382\n",
      "Proportion of 1s: 0.060277758347861775\n"
     ]
    }
   ],
   "source": [
    "unique, counts = np.unique(Y_test, return_counts=True)\n",
    "print(dict(zip(unique, counts)))\n",
    "print(\"Proportion of 0s:\", counts[0] / len(Y_test))\n",
    "print(\"Proportion of 1s:\", counts[1] / len(Y_test))"
   ]
  },
  {
   "cell_type": "markdown",
   "metadata": {},
   "source": [
    "Get testing accuracy"
   ]
  },
  {
   "cell_type": "code",
   "execution_count": 18,
   "metadata": {},
   "outputs": [
    {
     "name": "stdout",
     "output_type": "stream",
     "text": [
      "Accuracy of the network on the 757709 test data: 99.04132061253067 %\n"
     ]
    }
   ],
   "source": [
    "correct, total = 0, 0\n",
    "\n",
    "# no need to calculate gradients during inference\n",
    "with torch.no_grad():\n",
    "  for data in testloader:\n",
    "    inputs, labels = data\n",
    "\n",
    "    # calculate output by running through the network\n",
    "    outputs = clf(inputs)\n",
    "\n",
    "    # get the predictions\n",
    "    __, predicted = torch.max(outputs.data, 1)\n",
    "\n",
    "    # update results\n",
    "    total += labels.size(0)\n",
    "    correct += (predicted == labels).sum().item()\n",
    "\n",
    "print(f'Accuracy of the network on the {len(testdata)} test data: {100 * correct / total} %')"
   ]
  }
 ],
 "metadata": {
  "kernelspec": {
   "display_name": "Python 3",
   "language": "python",
   "name": "python3"
  },
  "language_info": {
   "codemirror_mode": {
    "name": "ipython",
    "version": 3
   },
   "file_extension": ".py",
   "mimetype": "text/x-python",
   "name": "python",
   "nbconvert_exporter": "python",
   "pygments_lexer": "ipython3",
   "version": "3.11.5"
  }
 },
 "nbformat": 4,
 "nbformat_minor": 2
}
